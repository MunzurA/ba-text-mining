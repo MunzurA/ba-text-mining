{
 "cells": [
  {
   "cell_type": "markdown",
   "metadata": {
    "id": "yYynTCm3XYM3"
   },
   "source": [
    "# Lab6.4-Topic-classification-BERT"
   ]
  },
  {
   "cell_type": "markdown",
   "metadata": {
    "id": "C6A5GywwXTs5"
   },
   "source": [
    "Copyright: Vrije Universiteit Amsterdam, Faculty of Humanities, CLTL"
   ]
  },
  {
   "cell_type": "markdown",
   "metadata": {
    "id": "1Nj3ZMRwg3kv"
   },
   "source": [
    "In this notebook, we demonstrate how to fine-tune BERT for topic classification.\n",
    "\n",
    "We will use the [simpletransformers library](https://simpletransformers.ai/):\n",
    " wrapper for the [huggingface transformers library](https://huggingface.co/) on PyTorch."
   ]
  },
  {
   "cell_type": "markdown",
   "metadata": {
    "id": "3anR6UiXhGVs"
   },
   "source": [
    "We are going to run the notebook on [colab](https://colab.research.google.com/?utm_source=scs-index), which has (limited) free access to GPUs.\n",
    "\n",
    "You need to enable GPUs for the notebook:\n",
    "\n",
    "* navigate to Edit → Notebook Settings\n",
    "* select GPU from the Hardware Accelerator drop-down\n",
    "\n"
   ]
  },
  {
   "cell_type": "markdown",
   "metadata": {
    "id": "xqo_5kOniUzs"
   },
   "source": [
    "### Install/import libraries"
   ]
  },
  {
   "cell_type": "markdown",
   "metadata": {
    "id": "qqfPejIjiG6z"
   },
   "source": [
    "Install the simpletransformers library (restart your runtime after the installation)"
   ]
  },
  {
   "cell_type": "code",
   "execution_count": null,
   "metadata": {
    "colab": {
     "base_uri": "https://localhost:8080/"
    },
    "executionInfo": {
     "elapsed": 9158,
     "status": "ok",
     "timestamp": 1645794184535,
     "user": {
      "displayName": "Ilia Markov",
      "photoUrl": "https://lh3.googleusercontent.com/a-/AOh14GiKKVHQAMPDKer006hWNwA1h_Tl0RFH-J_2tc01=s64",
      "userId": "09447936546757127632"
     },
     "user_tz": -60
    },
    "id": "Ps0tGvA8qiSP",
    "outputId": "eb22f173-eb24-49c6-d210-d86224808414"
   },
   "outputs": [],
   "source": [
    "!pip install simpletransformers --upgrade"
   ]
  },
  {
   "cell_type": "code",
   "execution_count": null,
   "metadata": {
    "id": "CQ6PxcAqRV_C"
   },
   "outputs": [],
   "source": [
    "# Import libraries\n",
    "import pandas as pd\n",
    "import numpy as np\n",
    "import sklearn\n",
    "from sklearn.metrics import classification_report\n",
    "from simpletransformers.classification import ClassificationModel, ClassificationArgs\n",
    "import matplotlib.pyplot as plt \n",
    "import seaborn as sn "
   ]
  },
  {
   "cell_type": "markdown",
   "metadata": {
    "id": "7xjzXFewjHrL"
   },
   "source": [
    "Import [the 20 newsgroups text dataset](https://scikit-learn.org/0.19/datasets/twenty_newsgroups.html).\n",
    "\n",
    "The dataset contains around 18,000 newsgroups posts on 20 topics."
   ]
  },
  {
   "cell_type": "code",
   "execution_count": null,
   "metadata": {
    "id": "x8fP7uGBSIno"
   },
   "outputs": [],
   "source": [
    "from sklearn.datasets import fetch_20newsgroups\n",
    "\n",
    "# load only a sub-selection of the categories (4 in our case)\n",
    "categories = ['alt.atheism', 'comp.graphics', 'sci.med', 'sci.space'] \n",
    "\n",
    "# remove the headers, footers and quotes (to avoid overfitting)\n",
    "newsgroups_train = fetch_20newsgroups(subset='train', remove=('headers', 'footers', 'quotes'), categories=categories, random_state=42)\n",
    "newsgroups_test = fetch_20newsgroups(subset='test', remove=('headers', 'footers', 'quotes'), categories=categories, random_state=42)"
   ]
  },
  {
   "cell_type": "markdown",
   "metadata": {
    "id": "xRCPZ9B3j_Al"
   },
   "source": [
    "### Data exploration"
   ]
  },
  {
   "cell_type": "markdown",
   "metadata": {
    "id": "0SfvjOA8n--Q"
   },
   "source": [
    "The target attribute is the integer index of the category:"
   ]
  },
  {
   "cell_type": "code",
   "execution_count": null,
   "metadata": {
    "colab": {
     "base_uri": "https://localhost:8080/"
    },
    "executionInfo": {
     "elapsed": 22,
     "status": "ok",
     "timestamp": 1645794221678,
     "user": {
      "displayName": "Ilia Markov",
      "photoUrl": "https://lh3.googleusercontent.com/a-/AOh14GiKKVHQAMPDKer006hWNwA1h_Tl0RFH-J_2tc01=s64",
      "userId": "09447936546757127632"
     },
     "user_tz": -60
    },
    "id": "qJGlxNCHSO4A",
    "outputId": "75ec11f0-896b-4066-c462-9106f81abc65"
   },
   "outputs": [],
   "source": [
    "from collections import Counter\n",
    "Counter(newsgroups_train.target)"
   ]
  },
  {
   "cell_type": "code",
   "execution_count": null,
   "metadata": {
    "colab": {
     "base_uri": "https://localhost:8080/"
    },
    "executionInfo": {
     "elapsed": 20,
     "status": "ok",
     "timestamp": 1645794221679,
     "user": {
      "displayName": "Ilia Markov",
      "photoUrl": "https://lh3.googleusercontent.com/a-/AOh14GiKKVHQAMPDKer006hWNwA1h_Tl0RFH-J_2tc01=s64",
      "userId": "09447936546757127632"
     },
     "user_tz": -60
    },
    "id": "2nSwVV77WTNo",
    "outputId": "fdcbaf54-9e61-42de-a38e-bd13fb78b3ab"
   },
   "outputs": [],
   "source": [
    "Counter(newsgroups_test.target)"
   ]
  },
  {
   "cell_type": "markdown",
   "metadata": {
    "id": "DsjZUZJQkJLb"
   },
   "source": [
    "Convert data to pandas dataframe"
   ]
  },
  {
   "cell_type": "code",
   "execution_count": null,
   "metadata": {
    "id": "FZycCZ1nTf8B"
   },
   "outputs": [],
   "source": [
    "train = pd.DataFrame({'text': newsgroups_train.data, 'labels': newsgroups_train.target})"
   ]
  },
  {
   "cell_type": "code",
   "execution_count": null,
   "metadata": {
    "colab": {
     "base_uri": "https://localhost:8080/",
     "height": 224
    },
    "executionInfo": {
     "elapsed": 18,
     "status": "ok",
     "timestamp": 1645794221680,
     "user": {
      "displayName": "Ilia Markov",
      "photoUrl": "https://lh3.googleusercontent.com/a-/AOh14GiKKVHQAMPDKer006hWNwA1h_Tl0RFH-J_2tc01=s64",
      "userId": "09447936546757127632"
     },
     "user_tz": -60
    },
    "id": "Cv_W-vjoVi9T",
    "outputId": "d1e49388-fa0b-4da6-e389-5021dec5a8b3"
   },
   "outputs": [],
   "source": [
    "print(len(train))\n",
    "train.head(5)"
   ]
  },
  {
   "cell_type": "code",
   "execution_count": null,
   "metadata": {
    "id": "15HS5hYJWE72"
   },
   "outputs": [],
   "source": [
    "test = pd.DataFrame({'text': newsgroups_test.data, 'labels': newsgroups_test.target})"
   ]
  },
  {
   "cell_type": "code",
   "execution_count": null,
   "metadata": {
    "colab": {
     "base_uri": "https://localhost:8080/",
     "height": 224
    },
    "executionInfo": {
     "elapsed": 16,
     "status": "ok",
     "timestamp": 1645794221681,
     "user": {
      "displayName": "Ilia Markov",
      "photoUrl": "https://lh3.googleusercontent.com/a-/AOh14GiKKVHQAMPDKer006hWNwA1h_Tl0RFH-J_2tc01=s64",
      "userId": "09447936546757127632"
     },
     "user_tz": -60
    },
    "id": "pclWtf61WFFi",
    "outputId": "4f48eda4-2bf4-4980-c7c4-ece8cbf3c00c"
   },
   "outputs": [],
   "source": [
    "print(len(test))\n",
    "test.head(5)"
   ]
  },
  {
   "cell_type": "markdown",
   "metadata": {
    "id": "uUyLCGQ-kewk"
   },
   "source": [
    "Use a subset (10%) of the training set as a validation set"
   ]
  },
  {
   "cell_type": "code",
   "execution_count": null,
   "metadata": {
    "id": "HjziUjfO6rfd"
   },
   "outputs": [],
   "source": [
    "from sklearn.model_selection import train_test_split\n",
    "\n",
    "train, dev = train_test_split(train, test_size=0.1, random_state=0, \n",
    "                               stratify=train[['labels']])"
   ]
  },
  {
   "cell_type": "code",
   "execution_count": null,
   "metadata": {
    "colab": {
     "base_uri": "https://localhost:8080/",
     "height": 268
    },
    "executionInfo": {
     "elapsed": 417,
     "status": "ok",
     "timestamp": 1645794222084,
     "user": {
      "displayName": "Ilia Markov",
      "photoUrl": "https://lh3.googleusercontent.com/a-/AOh14GiKKVHQAMPDKer006hWNwA1h_Tl0RFH-J_2tc01=s64",
      "userId": "09447936546757127632"
     },
     "user_tz": -60
    },
    "id": "TW0f7IXg6zh-",
    "outputId": "8899bd92-878f-4bfe-c9bd-36e1eb35a581"
   },
   "outputs": [],
   "source": [
    "print(len(train))\n",
    "print(\"train:\", train[['labels']].value_counts(sort=False))\n",
    "train.head(3)"
   ]
  },
  {
   "cell_type": "code",
   "execution_count": null,
   "metadata": {
    "colab": {
     "base_uri": "https://localhost:8080/",
     "height": 268
    },
    "executionInfo": {
     "elapsed": 11,
     "status": "ok",
     "timestamp": 1645794222085,
     "user": {
      "displayName": "Ilia Markov",
      "photoUrl": "https://lh3.googleusercontent.com/a-/AOh14GiKKVHQAMPDKer006hWNwA1h_Tl0RFH-J_2tc01=s64",
      "userId": "09447936546757127632"
     },
     "user_tz": -60
    },
    "id": "R6WPhHVV67FB",
    "outputId": "c754368e-e0c4-4a5f-b29a-89233073024a"
   },
   "outputs": [],
   "source": [
    "print(len(dev))\n",
    "print(\"dev:\", dev[['labels']].value_counts(sort=False))\n",
    "dev.head(3)"
   ]
  },
  {
   "cell_type": "markdown",
   "metadata": {
    "id": "o9xr9lbqkqin"
   },
   "source": [
    "## BERT"
   ]
  },
  {
   "cell_type": "markdown",
   "metadata": {
    "id": "QRNPxM1GkxDM"
   },
   "source": [
    "Define model's configuration"
   ]
  },
  {
   "cell_type": "code",
   "execution_count": null,
   "metadata": {
    "id": "8wXwk5muuVNd"
   },
   "outputs": [],
   "source": [
    "# Model configuration # https://simpletransformers.ai/docs/usage/#configuring-a-simple-transformers-model \n",
    "model_args = ClassificationArgs()\n",
    "\n",
    "model_args.overwrite_output_dir=True # overwrite existing saved models in the same directory\n",
    "model_args.evaluate_during_training=True # to perform evaluation while training the model\n",
    "# (eval data should be passed to the training method)\n",
    "\n",
    "model_args.num_train_epochs=10 # number of epochs\n",
    "model_args.train_batch_size=32 # batch size\n",
    "model_args.learning_rate=4e-6 # learning rate\n",
    "model_args.max_seq_length=256 # maximum sequence length\n",
    "# Note! Increasing max_seq_len may provide better performance, but training time will increase. \n",
    "# For educational purposes, we set max_seq_len to 256.\n",
    "\n",
    "# Early stopping to combat overfitting: https://simpletransformers.ai/docs/tips-and-tricks/#using-early-stopping\n",
    "model_args.use_early_stopping=True\n",
    "model_args.early_stopping_delta=0.01 # \"The improvement over best_eval_loss necessary to count as a better checkpoint\"\n",
    "model_args.early_stopping_metric='eval_loss'\n",
    "model_args.early_stopping_metric_minimize=True\n",
    "model_args.early_stopping_patience=2\n",
    "model_args.evaluate_during_training_steps=32 # how often you want to run validation in terms of training steps (or batches)"
   ]
  },
  {
   "cell_type": "markdown",
   "metadata": {
    "id": "WTPzxUZS0X-Z"
   },
   "source": [
    "With this configuration, the training will terminate if the eval_loss on the evaluation data does not improve upon the best eval_loss by at least 0.01 for 2 consecutive evaluations. \n",
    "\n",
    "An evaluation will occur once for every 32 training steps."
   ]
  },
  {
   "cell_type": "code",
   "execution_count": null,
   "metadata": {
    "colab": {
     "base_uri": "https://localhost:8080/"
    },
    "executionInfo": {
     "elapsed": 9,
     "status": "ok",
     "timestamp": 1645794222086,
     "user": {
      "displayName": "Ilia Markov",
      "photoUrl": "https://lh3.googleusercontent.com/a-/AOh14GiKKVHQAMPDKer006hWNwA1h_Tl0RFH-J_2tc01=s64",
      "userId": "09447936546757127632"
     },
     "user_tz": -60
    },
    "id": "fexZQazDm0pu",
    "outputId": "55ae8393-f925-488f-c032-ccb6317633d4"
   },
   "outputs": [],
   "source": [
    "# Checking steps per epoch\n",
    "steps_per_epoch = int(np.ceil(len(train) / float(model_args.train_batch_size)))\n",
    "print('Each epoch will have {:,} steps.'.format(steps_per_epoch)) # 64 steps = validating 2 times per epoch"
   ]
  },
  {
   "cell_type": "markdown",
   "metadata": {
    "id": "M3wUHcjXyg5C"
   },
   "source": [
    "Load the pre-trained model: model_type = bert; model_name = [bert-base-cased](https://huggingface.co/bert-base-cased) (specifies the exact architecture and trained weights to use)"
   ]
  },
  {
   "cell_type": "code",
   "execution_count": null,
   "metadata": {
    "colab": {
     "base_uri": "https://localhost:8080/",
     "height": 286,
     "referenced_widgets": [
      "756cd7aca16443f8be0df33a20bf3556",
      "6b89dc8731654ea38e0cd6426cd2e05f",
      "163e1a8fec7942a39a5e4fa09f572692",
      "dad71887e8f04fb699bdaca260f2d664",
      "97b16fe8c4e346ca8225a15b4d84d2e8",
      "bb80ff651cd5480fb6ba7c2d42766c9f",
      "39d7944195ce4b41a8f426fe62c59409",
      "a4d3fe35928d4e088d15f8c2a3985b8a",
      "35495463101044abb9879d922c10097f",
      "78834b5bc85743cd9cdce79b31ba45f4",
      "048efbce0ebe406ab1df4b358fd4de38",
      "c04f96eb4dfd4a8799bbd82b343e894a",
      "9d4622d0b9ab452bb3da985c42844ba9",
      "d06d7136be4943a6878715ec6c56adef",
      "59e01cbb2285402486f4389f79a88025",
      "48d3dbfbc060477b9d35a30ecc658fb7",
      "b915aa2ac685478aa5e560fde8ae50de",
      "ad9470dc248b4fba948fb8e37923d978",
      "a37f09f5668d476facf025aac56f3ba7",
      "28b88f3213ab471d8ce5a9a15a5f07ea",
      "6aedf7906fe04d85846ff7e542faaf2e",
      "a1cd0c23ea374864a695056e0ff9e236",
      "211c42c8a7854a49bacce2f59e528624",
      "9a171a3dd41240a3ab6508edb4d6ca02",
      "edeb0854027a47e69f9cf4c7e316cbf0",
      "4d1eb9b15ad641ac91aac008e3310a7a",
      "3edb086203904b91b100ddb2dca2014b",
      "88ec0984c9294167acbc7519fa2b0c1f",
      "560ada01fed9421c929184399c58824e",
      "9541825f63034dfbb83678f7ca559701",
      "cf09af8800be4073abb75658750eae38",
      "c86fa959a34149a39ce2933197b16d78",
      "50b86b57e1f94642961a8ea469f3a676",
      "9b95d85e26bc4495a0a9247a113b07df",
      "b4ef2e6d3f3c4496b918939c88439a9f",
      "3b1eeb077fdf4fde995543d48469fcbe",
      "3b04ede6422d498aa970c75b67d6a154",
      "f0234e96964f4b6dad2d9d2f924336e3",
      "793e713f10da43d7aa3198e8368710df",
      "ab0c0ef141f44b549353ed737e98762a",
      "212edd62c5114006bc81b04530101157",
      "cdb3f03566ca4f36abe223096f5dc6b9",
      "0802e1a672894f2299a911422e0ab45a",
      "86607a25f8c7400293efaf91829b9452",
      "d1c442bff7b04c06812b687e4e904090",
      "071b12bd1fb24fa29bd185decb3bf40b",
      "668a0f3621e143ada37104d286d24111",
      "7e3e83bef5f1478896c98b9861c4579e",
      "4095c33bb6464d93b95a1b351a47fbcc",
      "2be3cb87956548be833af75b11ed67a7",
      "c7de9aa5812f4afc89057c3f018fbffa",
      "3d1506b6343d4666ab414c82c4dffdd4",
      "468a3db6d40b4d87b8396850847fefd6",
      "9168864df376417bb38a67f1f97c9b84",
      "f637e23fa8f64fa8badaf42ea2aaf309"
     ]
    },
    "executionInfo": {
     "elapsed": 26962,
     "status": "ok",
     "timestamp": 1645794249040,
     "user": {
      "displayName": "Ilia Markov",
      "photoUrl": "https://lh3.googleusercontent.com/a-/AOh14GiKKVHQAMPDKer006hWNwA1h_Tl0RFH-J_2tc01=s64",
      "userId": "09447936546757127632"
     },
     "user_tz": -60
    },
    "id": "g97m6L_ZqhkK",
    "outputId": "a3b7ed42-9441-477c-d469-9af25cb1c5e4"
   },
   "outputs": [],
   "source": [
    "model = ClassificationModel('bert', 'bert-base-cased', num_labels=4, args=model_args, use_cuda=True) # CUDA is enabled"
   ]
  },
  {
   "cell_type": "code",
   "execution_count": null,
   "metadata": {
    "colab": {
     "base_uri": "https://localhost:8080/"
    },
    "executionInfo": {
     "elapsed": 7,
     "status": "ok",
     "timestamp": 1645794249040,
     "user": {
      "displayName": "Ilia Markov",
      "photoUrl": "https://lh3.googleusercontent.com/a-/AOh14GiKKVHQAMPDKer006hWNwA1h_Tl0RFH-J_2tc01=s64",
      "userId": "09447936546757127632"
     },
     "user_tz": -60
    },
    "id": "O9P0dxJeeN91",
    "outputId": "8fd30a8e-2b2e-46a2-ee80-433e05dcbb36"
   },
   "outputs": [],
   "source": [
    "print(str(model.args).replace(',', '\\n')) # model args"
   ]
  },
  {
   "cell_type": "markdown",
   "metadata": {
    "id": "fKkGuau2lv7r"
   },
   "source": [
    "Fine-tuning the model (takes a while)"
   ]
  },
  {
   "cell_type": "code",
   "execution_count": null,
   "metadata": {
    "colab": {
     "base_uri": "https://localhost:8080/",
     "height": 968,
     "referenced_widgets": [
      "087215466c9c4f0d893b54ef7bdaee5c",
      "470ef6fbaf26454db86bad496fa5c3f7",
      "bcbd56e40e144b4a948555cbb4d52223",
      "acd8556f45ed425b8359ebd32bf6df86",
      "ca1765b0686d431c88542263349efcc4",
      "0fd3c4d22252407a851cf68b9298f4d9",
      "2fd299792987499c9ae61e0894643295",
      "15e324475c724934ba07684c994d57e2",
      "9214d7b2dc9d4c1a824228de5145132d",
      "2b934d83732c4b15aabb775aab5b8860",
      "3cf9616e1d0948a280ae46ece35b679b",
      "7e07a674312e4a49a8889132624a12cd",
      "900dffa54ae245ed9de2da8a644d5272",
      "f5d046a077c64414ac4d044e4c0413bc",
      "c0a8d354f77f43fe9d195df192505156",
      "012c4075c491468dafe325912a89d8e4",
      "cba81ba6846e4e41974357e822564847",
      "e9a75333a84a41e98e0072d5b9555186",
      "94f1c191144e485aac5e2afaa3b51e05",
      "d6294f2e4975453bb72fef24ebfdaef3",
      "0f55b830a4d34e188241a1e10f16b6c6",
      "8a194722cddd4b05a021ea8d1dbbcaf1",
      "cee6192f16714826af8f741fd4dbb0b2",
      "bf12f2fb2d444c18a1847d2d03b74178",
      "6724d59c1df542559004704c5364c4c0",
      "7d3b79fce24349f195ec39c2cd0f4d2d",
      "4f800192df6544e4b402a42bb134c01e",
      "175a6da554174ff7bd15f442d4678424",
      "35fe8ea479a1427b8bbb9f5c1b23836f",
      "7d503b79ec0f4b3d99acb83cecf39f8a",
      "93369996e5134fafaefe70120d58c71c",
      "4c595816c44a4b82953e2e415547e277",
      "c6b9e8a7fe5948cd8cb10089e7add7bc",
      "c2a601dada454a0aa09e712cd3edb446",
      "4054d9dffeee4a06a453a7ef319aa5a3",
      "8e57264e9e31485f9999a4ee4229de2c",
      "3cb154605dab4a42a1405476a896e3c2",
      "57595d741b8a4732b0d96f0862dc2c0a",
      "c013fd3c37e048e098a82622fee8c215",
      "5000822444ed4f30b7ec6ec2f6c50db2",
      "4872e73a3bfb460cbe5e7f535139d0c0",
      "942535505162417297e40a4f2801d890",
      "747375b861cc44cf996a4f8a46cf4f12",
      "ab3354e2ab714df3831f328df769fbd8",
      "1739c4f81d2246d495bd007ad663d219",
      "436f17bca9f84b82ac97a55b4a114163",
      "54801bdd3f3b47c38f736c7ceeeeee95",
      "5633e1afd4424e5db868832b1367504d",
      "7de54537e740408a979450fe08026be4",
      "0da3bdfbcd5a41839244bc03fa4a1587",
      "eb30681827db45d1bb169c1e4704a8bd",
      "d49af3d05c4e4272a451018104411ac5",
      "1c7e9971919940d994dad4b250e7a747",
      "13d075fce6d347ae80d858f9ab2acfb8",
      "f064faae062144879b4930813bde3e0f",
      "31b0c657ef23402ba3bd013cc6c7322b",
      "22653805ebe84e74b1d9e1617ea1a972",
      "8497eeee9e2e4058859ffb88d3ba91de",
      "d842dae2aa05468089c1889347687d31",
      "f41034da819d4ff3b9dc1d8f4f43b435",
      "108783aaef2c471ea6c8c9a5c8de21da",
      "6173ad2963ac4b0b99bb3388fb0a803a",
      "3dafc3b18a8d45208b7a0288a4efd0dd",
      "099d31d172274e22bbcaaaa2fe24ef8f",
      "f0b8d625e8f84125974bc925321f51ca",
      "e8cec01a2c2a43878539d08d0a56b396",
      "a31c3d99a4724cde96ee6723e084bb7d",
      "22e217292a9c48a3b82d24267fa087c9",
      "69aa4220be9a4df8b61b2f652efbfca4",
      "7122c013cb3d422da72984489f4034fe",
      "02ef16ae8bfe48789ff434764c7ab4b7",
      "9029e759adaa439092fce283628bf691",
      "48fde316e5f8490f808d7c0d17a2f1b0",
      "82a60edd2bed405bbfd3107a4a03da15",
      "a1017d3522aa4df6a5eeb3ffc6d1589b",
      "293d15a0da944bad8564f299c64a3558",
      "744d8dae12ec47cfbc4aff57db5de94e",
      "470aa9bd53d84ce3a8b17dc190d674b4",
      "b79d75789c844e7cb36a8be4fe18a448",
      "c2620770d3bb416392c2137f2608d4a8",
      "d66342d339de452ca750320bb709ef0f",
      "3dadeb727cb6449090e3a6b831585da4",
      "d9ce3d19254149f9986fd1a4a420d1ae",
      "656fcac4b1a34d4182e88dc74bb19442",
      "e1497b4420674499ae2a3d8d3afb69f1",
      "167673a7c2a9439eadd4130282cf741d",
      "9395d5cb73914e46a8401d442f370683",
      "b4f6f8d9f5614a449eccae1473a07727",
      "63ee12e54ea14f01a7ead32306090afd",
      "43cdf27281dc4b42be062ede189f0ef1",
      "bd79831fe70943b8b6b6728f0dcc959e",
      "b4ad70f988f8498da331ac9917ae0c89",
      "e4581752ed334375bf75ad55486eb36f",
      "f6d7ef3880074ffda9362a04711d5e08",
      "37762551316c4b9dba0501e11b5d3f98",
      "aa0a01f9711e433bbd86c1059d0dfb8f",
      "e98f852721aa4a39b491961c1794f4e2",
      "2c7f98c2b96c42f785126e07151f5ff0",
      "95208f691bea4c00b935f3c886aac02f",
      "369018263592426bb38a0f7c0b146422",
      "3342498025d848d0a685a147cc667f7e",
      "299bc34b583c43ecad06e6d305067fe0",
      "aa1cc3f327b44a0fbcc56a0c8ce90257",
      "9e7830b87f934838953cfe9f2f013487",
      "9251094bf0844b7d9301bc99d0559ec8",
      "cef3334c256849cdbf8b188d4b442bf9",
      "5097c35533774c47a700f88450bfb574",
      "6a2b7583e5fb41a8aaaeeffabb85ae5b",
      "19f2b24f8fc94e7292a65f082fe53302",
      "2a5091534e0c42e3a92f4348b72f14a9",
      "18f2575b130749b8bed8dee9c6a9df74",
      "473e30ea954448cabad8ccddb50be2bc",
      "4d2ffa8a416042cd8c431dbdad564549",
      "fd5d6af5f5b948da80884aeb51765330",
      "bf062d8939374dc1a3c7452bcae0a93b",
      "2863793ab5d24b1682e3a0c612f4c9b2",
      "6bb9611b04604fd2bd370b651360494b",
      "138ce4bb210c43ffae989fde45dd7c68",
      "247f94fa696f4ce38d0aef4ab9a8bec0",
      "ba9322704c314dbb98b13450439941c1",
      "c840c889695f499da9a07c62ff773002",
      "40337455dcdd455980d663165f9542c8",
      "38526778481049e9a541c173f73f9838",
      "356cd3a6b2ac4a3086e7d2de5d445bca",
      "e3d6fdb5ff9e4f7b827f9b4073d0e844",
      "b869c91fdf4747cc9f2b987587df8ad9",
      "da2c46e4ac5f4327aae2b385944ec9d1",
      "794200bc3bdd453b905910cbb4a83d89",
      "de34d18bed4548219f161a8f3e1c12a8",
      "6bb8647d8a454c5d80d5ea2a22f07fac",
      "404e1367c2e941ab8dba16f9512b760b",
      "59b30cd0e1e24a389c6a9b8c95e2444b",
      "7b317a195d9143138f6a0f4637e29f89",
      "fb9a365dea0c43519931ed9eb34ec8a6",
      "05bce8408e5241f58c3b8049a76287d5",
      "4d6c47f464a04036aaee1c832f54d21b",
      "a94a95c452f4461e9b16b10ef0128057",
      "e51ff7940cfd4ffd8921ebcd55e12cc6",
      "dce4359b5182424e94096702ea91e520",
      "32cf8a575c014abcbbe1df23a71144f3",
      "69bdf67f39224d85a9e9c5aba470856c",
      "352dbf36420e4425ba7d924a8a6a13d9",
      "f9066d88c27f45599ecfbb17064eea6a",
      "838a4c817fe741cb8bbfa44a926d26ce",
      "3a95827652d64a5bb86f3c0039742ed5",
      "2996e38ddf1c46b6afa15c62fa85d008",
      "050309e32dd04c778d088f2a726c840c",
      "854a449535ef460d991d235fa39f5551",
      "3ca3970db00b4cbe9a0d0735fa59d127",
      "dc8ff915813d41d6b05634c6a7472a21",
      "f77544e3c47945b2b8750d4e43b9a43f",
      "b5cb61bdb84742ea8f2009bd3d03db66",
      "13a1720f37894498b676537f16e5805d",
      "0810674aa66940118411834da3697941",
      "390c0a7372b14d74b22b1721f8afd52e",
      "e26f0c68efdb42e596ec6c25d999e0fe",
      "db1dccc531eb45a6bf9583dfe8c518ba",
      "09d51752e1024917a3cd5981e4da009c",
      "7e98e208e7e3416e9ef3b69568131fa4",
      "d4bd38bb0127462aabc5afffad690186",
      "0cd9d3da1e5d400dbe53ea1218c75b83",
      "28328d12671f473b9651b4d09bf6b276",
      "6880b6f155d4435fbd4c943544b22769",
      "cb90380fb35044cbb45614427df29210",
      "0026f15b11fb4d77a1932b6cd0ce19ae",
      "0ce18944f4634c5c852a4098a4ea40d0",
      "9174aa74c21a42cca344fd4330dfb304",
      "7087dc4e61d54dc78291a5618ba7220b",
      "b72ac7c0010a42a88ffd70ba1f0c2932",
      "c67898aef68546a7a1fb386c6248b822",
      "d7470578f4534f1e9253f982e36695e4",
      "f984f7159b904dac9753d1d4e50d4496",
      "0a8e925e8d4c43fe80dc997b43640774",
      "d5b4a311c0d941dca03783ba8d82039f",
      "37e67ea63f4c42328c7056f95b72edcb",
      "9fd16ee51bc04a849bf66abce3bfc7c7",
      "f5b235f165f640c1ad8da8a20bf1bbfe",
      "480d318c954947698ee1abcb097b6962",
      "9506bd5f42424006bbcbfe69e7e004a0",
      "1f8bf17e568c4ae59447d22161764579",
      "e3f98b397c054944ac309003b81c337b",
      "7da6444cbbca45a2ba83337a058d411c",
      "ac16fe5b538d492ba593f382209288b3",
      "77c34edf9173486795566c8bfc78a3db",
      "d9bd1b10e98448adb1f58aac6cd73628",
      "b127e2cd910843d2be608d9f9a84c909",
      "b64449c5f68243d59408b44dd3be0c23",
      "894f25dd58c944b7a20c82fa20eaf687",
      "f51dfb3d304c4e06bcc42f468c5e87a6",
      "afa1f4b694d547e0bcf7261624b4ce0a",
      "d5af7e235c6b4d0796bacbb5c865fd59",
      "2d472bf5c856417d8f27bb599b427a2d",
      "87cb53691bd94ac9aea3dc3d4776fd37",
      "e1bef2dfab184988b3cc09abd83f8113",
      "51142631e01f463983654f245537578c",
      "c1eaffb18a2244a98e16b55a86c2d495",
      "daeef410f6514a4ca4a97358d92d2ece",
      "eeef14aff2ed49e28c3b4f49edbf12df",
      "b132ae4c3f8743028d9c954c52592746",
      "f8d570c8b5c14f3592a1b66d7c53ef2e",
      "50d47b79bcb84f45839d8d3fcd5a8c58",
      "e8cc918ce101443ead101bf7efb3eb62",
      "2e9685885c0c436397cd5b974d9b88d0",
      "0d30963aad9643a7a188de7e769a83fd",
      "312aea1c554a49b28d0fb4dac65a18cb",
      "96c82950a1674d2faa252f53a82ce6d7",
      "28548fe8117e4530993ec3971bcfd19d",
      "4459ab49c03b4b7088b0f7c58e9f3428",
      "c344ca2fe0a64886a758d2764ef72df0",
      "736785cd7d614326a84e89d2eaf4d570",
      "362e418a3b224b08b7757af7f9bb84c8",
      "ef783e0912084e27a5953213d002eb10",
      "71f26a151e784854b28702b7887371cb",
      "1c136b35ed3345d6ad64e223d458f3fd",
      "70227a40953842a99b409abd20bec217",
      "d1c39ad684a7416d8909bc21557fdbc7",
      "dfd992fe852649f79413ab17a07b8acf",
      "98eb7ce3dac64893a9a9fc9f36373d02",
      "3de964bb33d943199964c65263fe4bb2",
      "b5f6f1d673d146c8a6bc3f1787c64b39",
      "4058c1fee00f4f7981155d93ad2a4a23",
      "401ceb6048fb4d17a846c864e5dfddbb",
      "081e3df987534ca9b1a424ce6ae5be30",
      "6eed0cbef9ba47a9857df840a3389214",
      "ca5e69bd2f7244d6ade430da72f6ab6a",
      "d771e4210a9348d7a82fa29064c22cbe",
      "a643e370a73a400aa4dbc7df276256c8",
      "d242f6bd551747faa4b2dcedd62491e2",
      "95136799050c4c4cb605fbc6c7e0d21c",
      "3f21a13b9ccd468e9597e934d9d32eb3",
      "c8037e8d7ab84c44930231c8498779e4",
      "0ea85827282a4429ba64e47ad7f1e0ee",
      "9168a22d86174fc69e907db8dc482e93",
      "b204d0fec6964412a2dc5f5e829b01c0",
      "08c398d9b0504bee81ffbda2c6425cea",
      "cf48fc971b274e2fb4d5cbddf5077c0a",
      "bbd2056cb3a74bf99cd2e0444fdba0a6",
      "beed05fa4e5e4eb7bcdced82ea5ca8db",
      "e6026fd2198f44fbb0b9f6ef5f934886",
      "3f4aae119345484398b6236d2ba8e35b",
      "6341e6d369d6467291c6bfa6688f5219",
      "638b88f67d66462baad1b9c8810d2be2",
      "75b54cd0814c48308c29245954302e52",
      "78e8dbac244c4d16ad3252a5dbd1085a",
      "d12bf4b4086d41f398236eb6ada1d1a7",
      "7d13e79eb55044a487b49fefc23528e1",
      "9240d92dd8a647879aeda07343283ce7",
      "b51b8fd4aebf406cb4620cf7b218b0a8",
      "b5b5bfd630b84339af033110afacae70",
      "cb12032496cf4631b34c3d15e36b70c8",
      "64c997d4932440a5af34a27c47d5d237",
      "ce363a2274264d839b9d146ef5dca931",
      "ad6878fe3f824b59b610fd7cdd2cefd2",
      "b88d8be1ecc14f75959686659563efcb",
      "e7776aa8fa9d4fde9ac169661ab47685",
      "b9fe90c635b940b589af1d25c626d0f6",
      "8ca29ff9820147c9a35c669ac58c8bae",
      "040b8181dc1949c887b11546d035eb21",
      "036a2c9c7cfa413186d05c521d9d6e00",
      "857a70bc54f14feba1d3f8551236fbbf",
      "10e26909b79a42fb9de71f931cfe60bf",
      "f3c689355fa44ac88a251c2314a78d67",
      "cc5aca625511442b982ad2fb7b3bdefc",
      "422dab12d3b245b3bb05d6e46d53c03d",
      "e47c58e7f3514b398a9fa27c715503e2",
      "e6692bf534424dad86334469be1fe509",
      "a34fbeb62ba44fa1a33162833f1ced13",
      "15d3f74eb10344a89a6e86443500e8e4",
      "de29885cef1d48f29ae88fb73dd0dfa6",
      "f06d29c3396045f7a1c1d02bd62b85be",
      "07546cdfc3114568ae5c20fca59b437a",
      "172c8f041d0e4043977f7c958f5e40f5",
      "48f6f762be7440d085aab4b62986297a",
      "61815653b0db479b9fa261ede63513b8",
      "62e3d28a991e4358b75551daaff94532",
      "c8e0be6df8b4424091822fea4302d6ff",
      "1302395f71a446e999ed61d5a0b2c2f3",
      "f111740f280e4f5eb287c2fffa169fb6",
      "bf3a28ea90ac411c9b24d6305e31e688",
      "a4f06276fe85425d901ff3126b8a8af3",
      "a28312d8991d4becaceffd82a39fdb9a",
      "cd3456f933a54392af94cfdd0375606f",
      "a212917372bd4a8faff63a9b5e9d81cd",
      "b9077f5699994241bda1f09e0a6ca276",
      "9a4f3edccc4e4dcbb7c386e0326d2e0a",
      "3c14b64a51fd4d899642da9a73d14255",
      "cc3174e4eff145af8383dd320f71e766",
      "c86390645b984711a0e9f24f1e0cd98a",
      "dc8a52aadb5e48bc9a2b3808a38e9be5",
      "88a521ab04e04e0cbeae11f19983028f",
      "1ef2b21733ee4d0f88c31e9f87d786c3",
      "929ff658dc0d4324960478abc29f3e1e",
      "caafb61fcddb413ba7a9d34bf19f1043",
      "e9249e6dcb8c4990a0ec461807595dd8",
      "a5127b1e6d7040efbc587f2491ff5f15",
      "bacc75b8c6764ec18a60b4b10ab19fdc",
      "2e4563c57bc74207bb6920d97178c816",
      "1830e3de9cfc4a0d87ed793c17063027",
      "294c312d906b49159a89c36c87f08cb7",
      "0cd503fa5d28498a91470b61c6289401",
      "1cf0cf2f89744b06b486e3dff1d2dd76",
      "553c6b3ddcec46bd8f85c5856bf548b1",
      "021e1707cf18403fb8c60860843247b8",
      "7b41caf595544aa4aa5ef3354b251d54",
      "ddba792beacb4259bc3846d88eb6dec7",
      "a1f512f7414c4920b8684e76a7dbbc1d",
      "f2e3b1e73a124ee88e0294d7d08c9238",
      "0ff1c4d7ebdd424cad3809713c3f4ab7"
     ]
    },
    "executionInfo": {
     "elapsed": 2644793,
     "status": "ok",
     "timestamp": 1645796893830,
     "user": {
      "displayName": "Ilia Markov",
      "photoUrl": "https://lh3.googleusercontent.com/a-/AOh14GiKKVHQAMPDKer006hWNwA1h_Tl0RFH-J_2tc01=s64",
      "userId": "09447936546757127632"
     },
     "user_tz": -60
    },
    "id": "NXHd3iwFuX_z",
    "outputId": "01181805-fb09-42fa-bd6c-e39df217c682"
   },
   "outputs": [],
   "source": [
    "_, history = model.train_model(train, eval_df=dev) "
   ]
  },
  {
   "cell_type": "code",
   "execution_count": null,
   "metadata": {
    "colab": {
     "base_uri": "https://localhost:8080/",
     "height": 298
    },
    "executionInfo": {
     "elapsed": 475,
     "status": "ok",
     "timestamp": 1645796894302,
     "user": {
      "displayName": "Ilia Markov",
      "photoUrl": "https://lh3.googleusercontent.com/a-/AOh14GiKKVHQAMPDKer006hWNwA1h_Tl0RFH-J_2tc01=s64",
      "userId": "09447936546757127632"
     },
     "user_tz": -60
    },
    "id": "hLqlJq-N70Fg",
    "outputId": "10075fd7-e133-44fe-bf6b-16ea68ef40c7"
   },
   "outputs": [],
   "source": [
    "# Training and evaluation loss\n",
    "train_loss = history['train_loss']\n",
    "eval_loss = history['eval_loss']\n",
    "plt.plot(train_loss, label='Training loss')\n",
    "plt.plot(eval_loss, label='Evaluation loss')\n",
    "plt.title('Training and evaluation loss')\n",
    "plt.legend()"
   ]
  },
  {
   "cell_type": "markdown",
   "metadata": {
    "id": "4KSWJoKb9q2x"
   },
   "source": [
    "* Loss measures the “goodness” of your model\n",
    "\n",
    "* The smaller the loss, the better the classifier is at modeling the relationship between the input data and the output targets\n",
    "\n",
    "* But you need to be careful not to overfit"
   ]
  },
  {
   "cell_type": "markdown",
   "metadata": {
    "id": "kEARE6SR_wb8"
   },
   "source": [
    "In our case, we stopped training because eval_loss loss did not improve upon the best eval_loss by at least 0.01 for 2 consecutive evaluations.\n",
    "\n",
    "We can observe fluctuations in the training loss, but overall it is decreasing.\n",
    "We can have a smoother learning curve by varying hyperparameters, e.g., learning rate, batch size."
   ]
  },
  {
   "cell_type": "code",
   "execution_count": null,
   "metadata": {
    "colab": {
     "base_uri": "https://localhost:8080/",
     "height": 98,
     "referenced_widgets": [
      "4e076615302f46fa9136ff6e10c3380d",
      "c6d0f1b0236d42dfbed9972e783b2cc8",
      "8fd12f0d72e84d53805af91e28996a0a",
      "d31f684617954225b277ca343bace6a2",
      "7356b0f629504900908a094067716ab7",
      "d7c6b638607444138c6b7ced6eab4898",
      "13b8d5997eeb4633b479a728c4957651",
      "731fae34b0d347679eae8a471ce9a8b9",
      "1ed0fc32e3bd4a25a9b29c631bd3f46f",
      "8e555be35ebf4431a8f74756bba7b0e9",
      "7b96a789dfc943e6a1b6f350398d34ee",
      "d35e895c9aa5453e867fe88f03d2657d",
      "8d10176acb194699bb762fd6473561cd",
      "82f6d2ddf2ef457590c915f54be71176",
      "26d9bf95c9b64fb38db7cdd6c1e13bfb",
      "5404d904b6144b3c8af4f07d93f8c141",
      "da35a1fe34ac4b7e95c954e56ed82ae0",
      "cb625bb4ea5d48e586970caec634fdb3",
      "f31d310c7d1449cf9eb7279c3d87668e",
      "fe151c3f133a49feb852965779173865",
      "a195fd942508404582fd7e91f25e2ad8",
      "b8ed794ec8c04775a94e2ae04972eb57"
     ]
    },
    "executionInfo": {
     "elapsed": 13921,
     "status": "ok",
     "timestamp": 1645796908218,
     "user": {
      "displayName": "Ilia Markov",
      "photoUrl": "https://lh3.googleusercontent.com/a-/AOh14GiKKVHQAMPDKer006hWNwA1h_Tl0RFH-J_2tc01=s64",
      "userId": "09447936546757127632"
     },
     "user_tz": -60
    },
    "id": "FfhYbPEN72Qf",
    "outputId": "d7fa23b8-800d-41c7-f425-6dc802847b56"
   },
   "outputs": [],
   "source": [
    "# Evaluate the model\n",
    "result, model_outputs, wrong_predictions = model.eval_model(dev)\n",
    "result"
   ]
  },
  {
   "cell_type": "markdown",
   "metadata": {
    "id": "n6gtZCsKLImi"
   },
   "source": [
    "* mcc: [ Matthews correlation coefficient](https://scikit-learn.org/stable/modules/generated/sklearn.metrics.matthews_corrcoef.html)\n",
    "\n",
    "* eval_loss: Cross Entropy Loss for dev"
   ]
  },
  {
   "cell_type": "markdown",
   "metadata": {
    "id": "Y8M1m93Ol9cT"
   },
   "source": [
    "Make predictions with the model (predict the labels of the documents in the test set)"
   ]
  },
  {
   "cell_type": "code",
   "execution_count": null,
   "metadata": {
    "colab": {
     "base_uri": "https://localhost:8080/",
     "height": 81,
     "referenced_widgets": [
      "0477de9f117d46da998acbc4b579c7c6",
      "8edc92d3b1f940e3bc57696b48cb307e",
      "b914ea158ded4dd89dc351f360d16d4a",
      "e294e8ebb8a7462b8c23139b748bc449",
      "f7cfb255da1149cd87b94a7d00bfd411",
      "c8ca375692f04eaa8cef7e68a4c76581",
      "c2ed3306e6e84aed90a92926912fb854",
      "eaefafb5ec8446fa998e4aa3a1cf0cce",
      "a3ebcc865e2f4293ace3569b96822d8e",
      "d7fc442bd8a64501bf9abb038b609ba6",
      "c4d9d4e0f35247e9a5946cb23fec9629",
      "2510260deddf452ba7654f57fb14e8ac",
      "e212044a9e904906ba4f1d0258055508",
      "6011f70016874e1d9a15d4d960737454",
      "86d313c18544471c81533150fe31c711",
      "43a36d3d7cad45678338837e3341787e",
      "20134f0fff6a46d197eafeef9fa18d41",
      "b95aaf32823a4c87a2284ef0b1ca7473",
      "3c6532bed7814dff802309eef3ca1134",
      "100cb4e709af4f38b35a1f6f69d1fda1",
      "367f98b7461440c2ade9a99ed00a88f5",
      "46900997932f4fe59048af1d1de5a687"
     ]
    },
    "executionInfo": {
     "elapsed": 90297,
     "status": "ok",
     "timestamp": 1645796998500,
     "user": {
      "displayName": "Ilia Markov",
      "photoUrl": "https://lh3.googleusercontent.com/a-/AOh14GiKKVHQAMPDKer006hWNwA1h_Tl0RFH-J_2tc01=s64",
      "userId": "09447936546757127632"
     },
     "user_tz": -60
    },
    "id": "JHf8BtGxugLK",
    "outputId": "30b43ed0-e3b3-43a6-a82d-f9e8dd0c14e3"
   },
   "outputs": [],
   "source": [
    "predicted, probabilities = model.predict(test.text.to_list())\n",
    "test['predicted'] = predicted"
   ]
  },
  {
   "cell_type": "markdown",
   "metadata": {
    "id": "trJHLdjCmGsB"
   },
   "source": [
    "Test set predictions"
   ]
  },
  {
   "cell_type": "code",
   "execution_count": null,
   "metadata": {
    "colab": {
     "base_uri": "https://localhost:8080/",
     "height": 206
    },
    "executionInfo": {
     "elapsed": 15,
     "status": "ok",
     "timestamp": 1645796998500,
     "user": {
      "displayName": "Ilia Markov",
      "photoUrl": "https://lh3.googleusercontent.com/a-/AOh14GiKKVHQAMPDKer006hWNwA1h_Tl0RFH-J_2tc01=s64",
      "userId": "09447936546757127632"
     },
     "user_tz": -60
    },
    "id": "Q7rbQGLSvtdp",
    "outputId": "3dc840ae-4bec-41ba-8625-20b6011c7d09"
   },
   "outputs": [],
   "source": [
    "test.head(5)"
   ]
  },
  {
   "cell_type": "markdown",
   "metadata": {
    "id": "jVfBUoE0mQ9v"
   },
   "source": [
    "Evaluate the model's performance on the test set"
   ]
  },
  {
   "cell_type": "code",
   "execution_count": null,
   "metadata": {
    "colab": {
     "base_uri": "https://localhost:8080/"
    },
    "executionInfo": {
     "elapsed": 13,
     "status": "ok",
     "timestamp": 1645796998501,
     "user": {
      "displayName": "Ilia Markov",
      "photoUrl": "https://lh3.googleusercontent.com/a-/AOh14GiKKVHQAMPDKer006hWNwA1h_Tl0RFH-J_2tc01=s64",
      "userId": "09447936546757127632"
     },
     "user_tz": -60
    },
    "id": "JUsJ8gFDuoTh",
    "outputId": "b3b8bd0e-66c7-4789-c061-e4d47c26f6db"
   },
   "outputs": [],
   "source": [
    "# Result (note: your result can be different due to randomness in operations)\n",
    "print(classification_report(test['labels'], test['predicted']))"
   ]
  },
  {
   "cell_type": "markdown",
   "metadata": {
    "id": "xh-_lL5Wl-0a"
   },
   "source": [
    "### End of this notebook."
   ]
  }
 ],
 "metadata": {
  "accelerator": "GPU",
  "colab": {
   "collapsed_sections": [],
   "name": "Lab6.4-Topic-classification-BERT-final-4.ipynb",
   "provenance": []
  },
  "kernelspec": {
   "display_name": "Python 3 (ipykernel)",
   "language": "python",
   "name": "python3"
  },
  "language_info": {
   "codemirror_mode": {
    "name": "ipython",
    "version": 3
   },
   "file_extension": ".py",
   "mimetype": "text/x-python",
   "name": "python",
   "nbconvert_exporter": "python",
   "pygments_lexer": "ipython3",
   "version": "3.12.3"
  }
 },
 "nbformat": 4,
 "nbformat_minor": 4
}
